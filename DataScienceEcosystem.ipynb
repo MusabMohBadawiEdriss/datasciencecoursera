{
 "cells": [
  {
   "cell_type": "markdown",
   "metadata": {},
   "source": [
    "# Data Science Tools and Techniques"
   ]
  },
  {
   "cell_type": "markdown",
   "metadata": {},
   "source": [
    "Welcome to this notebook on data science tools and techniques. In this notebook, we will explore various programming languages, libraries, and tools used in data science."
   ]
  },
  {
   "cell_type": "markdown",
   "metadata": {},
   "source": [
    "# Data Science Languages\n",
    " 1. Python\n",
    " 2. R\n",
    " 3. SQL\n",
    " 4. Java\n",
    " "
   ]
  },
  {
   "cell_type": "markdown",
   "metadata": {},
   "source": [
    "# Data Science Libraries\n",
    " - NumPy\n",
    " - Pandas\n",
    " - Matplotlib\n",
    " - Seaborn\n",
    " - Scikit-learn"
   ]
  },
  {
   "cell_type": "markdown",
   "metadata": {},
   "source": [
    "# Data Science Tools\n",
    " | Category | Tool |\n",
    " | --- | --- |\n",
    " | Languages | Python, R, SQL, Java, MATLAB |\n",
    " | Libraries | NumPy, Pandas, Matplotlib, Seaborn, Scikit-learn |\n",
    " | Frameworks | TensorFlow, PyTorch, Keras, Hadoop, Spark |\n",
    " | Data Visualization | Tableau, Power BI, D3.js, ggplot2, Plotly |\n",
    " | Databases | MySQL, PostgreSQL, MongoDB, Oracle, SQL Server |\n"
   ]
  },
  {
   "cell_type": "markdown",
   "metadata": {},
   "source": [
    "# Arithmetic Expressions\n",
    "In this notebook, we will also explore some examples of arithmetic expressions in Python. These include addition, subtraction, multiplication, division, and more."
   ]
  },
  {
   "cell_type": "code",
   "execution_count": 3,
   "metadata": {},
   "outputs": [
    {
     "name": "stdout",
     "output_type": "stream",
     "text": [
      "Multiplication result: 50\n",
      "Addition result: 15\n"
     ]
    }
   ],
   "source": [
    "a = 5\n",
    "b = 10\n",
    "c = a * b\n",
    "d = a + b\n",
    "print(\"Multiplication result:\", c)\n",
    "print(\"Addition result:\", d)"
   ]
  },
  {
   "cell_type": "code",
   "execution_count": 4,
   "metadata": {},
   "outputs": [
    {
     "name": "stdout",
     "output_type": "stream",
     "text": [
      "Hours: 3.3333333333333335\n"
     ]
    }
   ],
   "source": [
    "minutes = 200\n",
    "hours = minutes / 60\n",
    "print(\"Hours:\", hours)"
   ]
  },
  {
   "cell_type": "markdown",
   "metadata": {},
   "source": [
    "# Objectives\n",
    " - Introduce various programming languages used in data science\n",
    " - Explore popular data science libraries and frameworks\n",
    " - Demonstrate arithmetic expressions in Python\n",
    " - Convert between different units of time"
   ]
  },
  {
   "cell_type": "markdown",
   "metadata": {},
   "source": [
    " Author: Musab Edriss"
   ]
  }
 ],
 "metadata": {
  "kernelspec": {
   "display_name": "Python 3",
   "language": "python",
   "name": "python3"
  },
  "language_info": {
   "codemirror_mode": {
    "name": "ipython",
    "version": 3
   },
   "file_extension": ".py",
   "mimetype": "text/x-python",
   "name": "python",
   "nbconvert_exporter": "python",
   "pygments_lexer": "ipython3",
   "version": "3.9.0"
  },
  "orig_nbformat": 4
 },
 "nbformat": 4,
 "nbformat_minor": 2
}
